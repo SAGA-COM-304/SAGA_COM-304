{
 "cells": [
  {
   "cell_type": "code",
   "execution_count": null,
   "metadata": {},
   "outputs": [
    {
     "name": "stdout",
     "output_type": "stream",
     "text": [
      "Total number of labels: 310\n",
      "First 10 labels: ['air conditioning noise', 'air horn', 'airplane', 'airplane flyby', 'alarm clock ringing', 'alligators, crocodiles hissing', 'ambulance siren', 'arc welding', 'baby babbling', 'baby crying']\n",
      "Label: 'playing piano' - Total videos: 1050\n",
      "Video 1:\n",
      "  YouTube ID: yqwGZ6Qdis8\n",
      "  Start time: 250 seconds\n",
      "  Label: playing piano\n",
      "  Split: train\n",
      "  YouTube URL: https://www.youtube.com/watch?v=yqwGZ6Qdis8\n",
      "\n",
      "Video 2:\n",
      "  YouTube ID: --IOqc-XgYo\n",
      "  Start time: 0 seconds\n",
      "  Label: playing piano\n",
      "  Split: train\n",
      "  YouTube URL: https://www.youtube.com/watch?v=--IOqc-XgYo\n",
      "\n",
      "Video 3:\n",
      "  YouTube ID: gHynIBRtAck\n",
      "  Start time: 40 seconds\n",
      "  Label: playing piano\n",
      "  Split: train\n",
      "  YouTube URL: https://www.youtube.com/watch?v=gHynIBRtAck\n",
      "\n"
     ]
    },
    {
     "data": {
      "text/html": [
       "<div style='display: flex; flex-wrap: wrap;'>\n",
       "            <div style='margin: 10px; width: 320px;'>\n",
       "                <div style='font-weight: bold;'>playing piano</div>\n",
       "                <iframe width=\"320\" height=\"180\" \n",
       "                    src=\"https://www.youtube.com/embed/yqwGZ6Qdis8?start=250\" \n",
       "                    frameborder=\"0\" allowfullscreen>\n",
       "                </iframe>\n",
       "                <div>Start: 250s, Split: train</div>\n",
       "            </div>\n",
       "            \n",
       "            <div style='margin: 10px; width: 320px;'>\n",
       "                <div style='font-weight: bold;'>playing piano</div>\n",
       "                <iframe width=\"320\" height=\"180\" \n",
       "                    src=\"https://www.youtube.com/embed/--IOqc-XgYo?start=0\" \n",
       "                    frameborder=\"0\" allowfullscreen>\n",
       "                </iframe>\n",
       "                <div>Start: 0s, Split: train</div>\n",
       "            </div>\n",
       "            \n",
       "            <div style='margin: 10px; width: 320px;'>\n",
       "                <div style='font-weight: bold;'>playing piano</div>\n",
       "                <iframe width=\"320\" height=\"180\" \n",
       "                    src=\"https://www.youtube.com/embed/gHynIBRtAck?start=40\" \n",
       "                    frameborder=\"0\" allowfullscreen>\n",
       "                </iframe>\n",
       "                <div>Start: 40s, Split: train</div>\n",
       "            </div>\n",
       "            </div>"
      ],
      "text/plain": [
       "<IPython.core.display.HTML object>"
      ]
     },
     "metadata": {},
     "output_type": "display_data"
    },
    {
     "name": "stdout",
     "output_type": "stream",
     "text": [
      "Label: 'dog barking' - Total videos: 767\n",
      "Video 1:\n",
      "  YouTube ID: OwxFBUmR7Fo\n",
      "  Start time: 200 seconds\n",
      "  Label: dog barking\n",
      "  Split: train\n",
      "  YouTube URL: https://www.youtube.com/watch?v=OwxFBUmR7Fo\n",
      "\n",
      "Video 2:\n",
      "  YouTube ID: 443rTNtiUsY\n",
      "  Start time: 0 seconds\n",
      "  Label: dog barking\n",
      "  Split: train\n",
      "  YouTube URL: https://www.youtube.com/watch?v=443rTNtiUsY\n",
      "\n",
      "Video 3:\n",
      "  YouTube ID: 3xbAoVtkinI\n",
      "  Start time: 100 seconds\n",
      "  Label: dog barking\n",
      "  Split: train\n",
      "  YouTube URL: https://www.youtube.com/watch?v=3xbAoVtkinI\n",
      "\n"
     ]
    },
    {
     "data": {
      "text/html": [
       "<div style='display: flex; flex-wrap: wrap;'>\n",
       "            <div style='margin: 10px; width: 320px;'>\n",
       "                <div style='font-weight: bold;'>dog barking</div>\n",
       "                <iframe width=\"320\" height=\"180\" \n",
       "                    src=\"https://www.youtube.com/embed/OwxFBUmR7Fo?start=200\" \n",
       "                    frameborder=\"0\" allowfullscreen>\n",
       "                </iframe>\n",
       "                <div>Start: 200s, Split: train</div>\n",
       "            </div>\n",
       "            \n",
       "            <div style='margin: 10px; width: 320px;'>\n",
       "                <div style='font-weight: bold;'>dog barking</div>\n",
       "                <iframe width=\"320\" height=\"180\" \n",
       "                    src=\"https://www.youtube.com/embed/443rTNtiUsY?start=0\" \n",
       "                    frameborder=\"0\" allowfullscreen>\n",
       "                </iframe>\n",
       "                <div>Start: 0s, Split: train</div>\n",
       "            </div>\n",
       "            \n",
       "            <div style='margin: 10px; width: 320px;'>\n",
       "                <div style='font-weight: bold;'>dog barking</div>\n",
       "                <iframe width=\"320\" height=\"180\" \n",
       "                    src=\"https://www.youtube.com/embed/3xbAoVtkinI?start=100\" \n",
       "                    frameborder=\"0\" allowfullscreen>\n",
       "                </iframe>\n",
       "                <div>Start: 100s, Split: train</div>\n",
       "            </div>\n",
       "            </div>"
      ],
      "text/plain": [
       "<IPython.core.display.HTML object>"
      ]
     },
     "metadata": {},
     "output_type": "display_data"
    },
    {
     "name": "stdout",
     "output_type": "stream",
     "text": [
      "Label: 'motorcycle accelerating' - Total videos: 0\n",
      "Label 'motorcycle accelerating' not found in dataset.\n"
     ]
    },
    {
     "data": {
      "text/html": [
       "<div style='display: flex; flex-wrap: wrap;'></div>"
      ],
      "text/plain": [
       "<IPython.core.display.HTML object>"
      ]
     },
     "metadata": {},
     "output_type": "display_data"
    },
    {
     "name": "stdout",
     "output_type": "stream",
     "text": [
      "Label: 'playing violin, fiddle' - Total videos: 1050\n",
      "Video 1:\n",
      "  YouTube ID: PIEPlCA3pTk\n",
      "  Start time: 30 seconds\n",
      "  Label: playing violin, fiddle\n",
      "  Split: train\n",
      "  YouTube URL: https://www.youtube.com/watch?v=PIEPlCA3pTk\n",
      "\n",
      "Video 2:\n",
      "  YouTube ID: xat6KiF9qzc\n",
      "  Start time: 200 seconds\n",
      "  Label: playing violin, fiddle\n",
      "  Split: train\n",
      "  YouTube URL: https://www.youtube.com/watch?v=xat6KiF9qzc\n",
      "\n",
      "Video 3:\n",
      "  YouTube ID: rIOumq8tz4g\n",
      "  Start time: 30 seconds\n",
      "  Label: playing violin, fiddle\n",
      "  Split: train\n",
      "  YouTube URL: https://www.youtube.com/watch?v=rIOumq8tz4g\n",
      "\n"
     ]
    },
    {
     "data": {
      "text/html": [
       "<div style='display: flex; flex-wrap: wrap;'>\n",
       "            <div style='margin: 10px; width: 320px;'>\n",
       "                <div style='font-weight: bold;'>playing violin, fiddle</div>\n",
       "                <iframe width=\"320\" height=\"180\" \n",
       "                    src=\"https://www.youtube.com/embed/PIEPlCA3pTk?start=30\" \n",
       "                    frameborder=\"0\" allowfullscreen>\n",
       "                </iframe>\n",
       "                <div>Start: 30s, Split: train</div>\n",
       "            </div>\n",
       "            \n",
       "            <div style='margin: 10px; width: 320px;'>\n",
       "                <div style='font-weight: bold;'>playing violin, fiddle</div>\n",
       "                <iframe width=\"320\" height=\"180\" \n",
       "                    src=\"https://www.youtube.com/embed/xat6KiF9qzc?start=200\" \n",
       "                    frameborder=\"0\" allowfullscreen>\n",
       "                </iframe>\n",
       "                <div>Start: 200s, Split: train</div>\n",
       "            </div>\n",
       "            \n",
       "            <div style='margin: 10px; width: 320px;'>\n",
       "                <div style='font-weight: bold;'>playing violin, fiddle</div>\n",
       "                <iframe width=\"320\" height=\"180\" \n",
       "                    src=\"https://www.youtube.com/embed/rIOumq8tz4g?start=30\" \n",
       "                    frameborder=\"0\" allowfullscreen>\n",
       "                </iframe>\n",
       "                <div>Start: 30s, Split: train</div>\n",
       "            </div>\n",
       "            </div>"
      ],
      "text/plain": [
       "<IPython.core.display.HTML object>"
      ]
     },
     "metadata": {},
     "output_type": "display_data"
    }
   ],
   "source": [
    "from vggsound_explorer import VGGSoundExplorer\n",
    "\n",
    "# Initialize the explorer\n",
    "explorer = VGGSoundExplorer(dataset_path='dataset/vggsound.csv')\n",
    "\n",
    "# Get a count of all available labels\n",
    "labels = explorer.get_available_labels()\n",
    "print(f\"Total number of labels: {len(labels)}\")\n",
    "print(f\"First 10 labels: {labels[:10]}\")\n",
    "\n",
    "# Function to explore a specific label\n",
    "def explore_label(label, n=5, split=None):\n",
    "    \"\"\"\n",
    "    Retrieve and display n random videos for a specific label.\n",
    "    \n",
    "    Args:\n",
    "        label (str): The sound label to explore\n",
    "        n (int): Number of videos to retrieve\n",
    "        split (str, optional): Filter by split ('train', 'test', or None for all)\n",
    "    \"\"\"\n",
    "    # Get the count of videos for this label\n",
    "    count = explorer.get_label_count(label)\n",
    "    print(f\"Label: '{label}' - Total videos: {count}\")\n",
    "    \n",
    "    # Get random videos with this label\n",
    "    videos = explorer.get_random_videos(label, n=n, split=split)\n",
    "    \n",
    "    # Display information\n",
    "    explorer.display_video_info(videos)\n",
    "    \n",
    "    # Show videos (this will embed YouTube players in the notebook)\n",
    "    explorer.show_videos(videos)\n",
    "    \n",
    "    return videos\n",
    "\n",
    "# Example 1: Explore musical instruments\n",
    "label = \"playing piano\"\n",
    "piano_videos = explore_label(label, n=3)\n",
    "\n",
    "# Example 2: Explore animal sounds\n",
    "label = \"dog barking\"\n",
    "dog_videos = explore_label(label, n=3)\n",
    "\n",
    "# Example 3: Explore vehicle sounds\n",
    "label = \"motorcycle accelerating\"\n",
    "motorcycle_videos = explore_label(label, n=3)\n",
    "\n",
    "# Example 4: Filter by train/test split\n",
    "label = \"playing violin, fiddle\"\n",
    "violin_videos_train = explore_label(label, n=3, split=\"train\")"
   ]
  }
 ],
 "metadata": {
  "kernelspec": {
   "display_name": ".venv",
   "language": "python",
   "name": "python3"
  },
  "language_info": {
   "codemirror_mode": {
    "name": "ipython",
    "version": 3
   },
   "file_extension": ".py",
   "mimetype": "text/x-python",
   "name": "python",
   "nbconvert_exporter": "python",
   "pygments_lexer": "ipython3",
   "version": "3.12.6"
  }
 },
 "nbformat": 4,
 "nbformat_minor": 2
}
